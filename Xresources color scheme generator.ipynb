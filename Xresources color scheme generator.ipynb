{
 "cells": [
  {
   "cell_type": "code",
   "execution_count": 2,
   "metadata": {
    "collapsed": false
   },
   "outputs": [],
   "source": [
    "using Color\n",
    "\n",
    "html(s) = display(MIME(\"text/html\"), s)\n",
    "style(el,sty,str) = \"\"\"<$(el) style=\"$(sty)\"> $(str) </$(el)>\"\"\"\n",
    "colorbardiv(fg,bg,text) = style(\"div\",\"color:#$(hex(fg)); font-family:Courier New; background-color:#$(hex(bg))\",\"<b>$text</b>\")\n",
    "\n",
    "h_to_rgb = [0=>\"f00\",1=>\"ff0\",2=>\"0f0\",3=>\"0ff\",4=>\"00f\",5=>\"f0f\"];"
   ]
  },
  {
   "cell_type": "code",
   "execution_count": 3,
   "metadata": {
    "collapsed": false
   },
   "outputs": [
    {
     "data": {
      "text/plain": [
       "HCL (generic function with 1 method)"
      ]
     },
     "execution_count": 3,
     "metadata": {},
     "output_type": "execute_result"
    }
   ],
   "source": [
    "function whitebalance{T <: ColorValue}(c::T, src_white::ColorValue, ref_white::ColorValue)\n",
    "    c_lms = convert(LMS, c)\n",
    "    src_wp = convert(LMS, src_white)\n",
    "    dest_wp = convert(LMS, ref_white)\n",
    "\n",
    "    ans = LMS(c_lms.l * dest_wp.l / src_wp.l,\n",
    "              c_lms.m * dest_wp.m / src_wp.m,\n",
    "              c_lms.s * dest_wp.s / src_wp.s)\n",
    "\n",
    "    convert(T, ans)\n",
    "end\n",
    "\n",
    "HCL(x) = whitebalance(x,RGB(1,1,1),RGB(1.0,.992,.804))"
   ]
  },
  {
   "cell_type": "code",
   "execution_count": 4,
   "metadata": {
    "collapsed": false
   },
   "outputs": [
    {
     "data": {
      "text/html": [
       "<div style=\"color:#C27157; font-family:Courier New; background-color:#E9AC9C\"> <b>cf00 = \"#E9AC9C\"</b> </div><div style=\"color:#E9AC9C; font-family:Courier New; background-color:#C27157\"> <b>df00 = \"#C27157\"</b> </div><div style=\"color:#B09440; font-family:Courier New; background-color:#F6C384\"> <b>cff0 = \"#F6C384\"</b> </div><div style=\"color:#F6C384; font-family:Courier New; background-color:#B09440\"> <b>dff0 = \"#B09440\"</b> </div><div style=\"color:#5E944C; font-family:Courier New; background-color:#BAC172\"> <b>c0f0 = \"#BAC172\"</b> </div><div style=\"color:#BAC172; font-family:Courier New; background-color:#5E944C\"> <b>d0f0 = \"#5E944C\"</b> </div><div style=\"color:#1CA790; font-family:Courier New; background-color:#99DAA2\"> <b>c0ff = \"#99DAA2\"</b> </div><div style=\"color:#99DAA2; font-family:Courier New; background-color:#1CA790\"> <b>d0ff = \"#1CA790\"</b> </div><div style=\"color:#548CA1; font-family:Courier New; background-color:#86C6B9\"> <b>c00f = \"#86C6B9\"</b> </div><div style=\"color:#86C6B9; font-family:Courier New; background-color:#548CA1\"> <b>d00f = \"#548CA1\"</b> </div><div style=\"color:#BB8699; font-family:Courier New; background-color:#CFC8CB\"> <b>cf0f = \"#CFC8CB\"</b> </div><div style=\"color:#CFC8CB; font-family:Courier New; background-color:#BB8699\"> <b>df0f = \"#BB8699\"</b> </div><div style=\"color:#FCFFE9; font-family:Courier New; background-color:#1B2423\"> <b>#define g000 #1B2423</b> </div><div style=\"color:#FCFFE9; font-family:Courier New; background-color:#3E4A47\"> <b>#define g333 #3E4A47</b> </div><div style=\"color:#FCFFE9; font-family:Courier New; background-color:#67746D\"> <b>#define g666 #67746D</b> </div><div style=\"color:#1B2423; font-family:Courier New; background-color:#94A194\"> <b>#define g999 #94A194</b> </div><div style=\"color:#1B2423; font-family:Courier New; background-color:#C6CFBE\"> <b>#define gccc #C6CFBE</b> </div><div style=\"color:#1B2423; font-family:Courier New; background-color:#FCFFE9\"> <b>#define gfff #FCFFE9</b> </div>"
      ]
     },
     "metadata": {},
     "output_type": "display_data"
    }
   ],
   "source": [
    "body = \"\"\n",
    "myColors = {} # Array of color names and values to use within Julia\n",
    "\n",
    "for i = [26:60:360]\n",
    "    h = h_to_rgb[div(i,60)] # analogous 3-bit color name\n",
    "    pc = (mod(div(i,60),2)==0) # Is it a primary color? used for optional adjustment\n",
    "    c = HCL(LCHab(80 + (pc ? -3:3),25+ (pc ? 0:0),i-30)) #bright\n",
    "    d = HCL(LCHab(60 + (pc ? -3:3),35+ (pc ? 0:0),i)) #dark\n",
    "    push!(myColors,\"c$(h)\"); push!(myColors,c);\n",
    "    push!(myColors,\"d$(h)\"); push!(myColors,d);\n",
    "    #body = body * colorbardiv(d,c,\"#define c$(h) #$(hex(c))\")\n",
    "    #body = body * colorbardiv(c,d,\"#define d$(h) #$(hex(d))\")\n",
    "    body = body * colorbardiv(d,c,\"c$(h) = \\\"#$(hex(c))\\\"\")\n",
    "    body = body * colorbardiv(c,d,\"d$(h) = \\\"#$(hex(d))\\\"\")\n",
    "end\n",
    "\n",
    "black = LCHab(13.3, 4.3,188.7) #1B2423\n",
    "white = LCHab(99.2, 11.2, 114.9) #fcffe9\n",
    "\n",
    "greys = linspace(black,white,6)\n",
    "for (i,c) in enumerate(greys)\n",
    "    push!(myColors,\"g$(repeat(string(hex(3*(i-1))),3))\"); push!(myColors,c);\n",
    "    body = body * colorbardiv( i > 3 ? black : white ,c,\"#define g$(repeat(string(hex(3*(i-1))),3)) #$(hex(c))\")\n",
    "end\n",
    "myColors = [myColors[i]=>myColors[i+1] for i = 1:2:length(myColors)] # Alternating Array to Dictionary\n",
    "# example:  hex(myColors[\"g000\"]) -> \"1B2423\"\n",
    "html(body)"
   ]
  },
  {
   "cell_type": "markdown",
   "metadata": {},
   "source": [
    "```\n",
    "*background: g000\n",
    "*foreground: gfff\n",
    "*color0:  g333\n",
    "*color7:  g999\n",
    "*color8:  g666\n",
    "*color15: gccc\n",
    "\n",
    "*color1:  cf00\n",
    "*color2:  c0f0\n",
    "*color3:  cff0\n",
    "*color4:  c00f\n",
    "*color5:  cf0f\n",
    "*color6:  c0ff\n",
    "*color9:  df00\n",
    "*color10: d0f0\n",
    "*color11: dff0\n",
    "*color12: d00f    \n",
    "*color13: df0f\n",
    "*color14: d0ff\n",
    "```"
   ]
  },
  {
   "cell_type": "code",
   "execution_count": 5,
   "metadata": {
    "collapsed": false
   },
   "outputs": [
    {
     "data": {
      "text/html": [
       "<div style=\"font-family:Ubuntu Mono;color:#1B2423;background-color:#3E4A47\"> <b><span style=\"color:#E9AC9C\"> red </span><span style=\"color:#F6C384\"> yel </span><span style=\"color:#BAC172\"> gre </span><span style=\"color:#99DAA2\"> cya </span><span style=\"color:#86C6B9\"> blu </span><span style=\"color:#CFC8CB\"> mag </span></b> </div><div style=\"font-family:Ubuntu Mono;color:#1B2423;background-color:#3E4A47\"> <b><span style=\"color:#C27157\"> red </span><span style=\"color:#B09440\"> yel </span><span style=\"color:#5E944C\"> gre </span><span style=\"color:#1CA790\"> cya </span><span style=\"color:#548CA1\"> blu </span><span style=\"color:#BB8699\"> mag </span></b> </div><div style=\"font-family:Ubuntu Mono;color:#1B2423;background-color:#C6CFBE\"> <b><span style=\"color:#E9AC9C\"> red </span><span style=\"color:#F6C384\"> yel </span><span style=\"color:#BAC172\"> gre </span><span style=\"color:#99DAA2\"> cya </span><span style=\"color:#86C6B9\"> blu </span><span style=\"color:#CFC8CB\"> mag </span></b> </div><div style=\"font-family:Ubuntu Mono;color:#1B2423;background-color:#C6CFBE\"> <b><span style=\"color:#C27157\"> red </span><span style=\"color:#B09440\"> yel </span><span style=\"color:#5E944C\"> gre </span><span style=\"color:#1CA790\"> cya </span><span style=\"color:#548CA1\"> blu </span><span style=\"color:#BB8699\"> mag </span></b> </div>"
      ]
     },
     "metadata": {},
     "output_type": "display_data"
    }
   ],
   "source": [
    "ss(c,x) = style(\"div\",\"\"\"font-family:Ubuntu Mono;color:#$(hex(myColors[\"g000\"]));background-color:#$(hex(myColors[c]))\"\"\",x)\n",
    "#hex(myColors[\"g000\"])\n",
    "ct(c,tx) = style(\"span\",\"color:#$(hex(myColors[c]))\",tx)\n",
    "#println()\n",
    "html(string(\n",
    " ss(\"g333\",string( \"<b>\",ct(\"cf00\",\"red\"),ct(\"cff0\",\"yel\"),ct(\"c0f0\",\"gre\"),ct(\"c0ff\",\"cya\"),ct(\"c00f\",\"blu\"),ct(\"cf0f\",\"mag\"),\"</b>\" ))\n",
    ",ss(\"g333\",string( \"<b>\",ct(\"df00\",\"red\"),ct(\"dff0\",\"yel\"),ct(\"d0f0\",\"gre\"),ct(\"d0ff\",\"cya\"),ct(\"d00f\",\"blu\"),ct(\"df0f\",\"mag\"),\"</b>\" ))\n",
    ",ss(\"gccc\",string( \"<b>\",ct(\"cf00\",\"red\"),ct(\"cff0\",\"yel\"),ct(\"c0f0\",\"gre\"),ct(\"c0ff\",\"cya\"),ct(\"c00f\",\"blu\"),ct(\"cf0f\",\"mag\"),\"</b>\" ))\n",
    ",ss(\"gccc\",string( \"<b>\",ct(\"df00\",\"red\"),ct(\"dff0\",\"yel\"),ct(\"d0f0\",\"gre\"),ct(\"d0ff\",\"cya\"),ct(\"d00f\",\"blu\"),ct(\"df0f\",\"mag\"),\"</b>\" ))\n",
    "))"
   ]
  }
 ],
 "metadata": {
  "kernelspec": {
   "display_name": "Julia 0.3.9",
   "language": "julia",
   "name": "julia-0.3"
  },
  "language_info": {
   "name": "julia",
   "version": "0.3.10"
  }
 },
 "nbformat": 4,
 "nbformat_minor": 0
}
