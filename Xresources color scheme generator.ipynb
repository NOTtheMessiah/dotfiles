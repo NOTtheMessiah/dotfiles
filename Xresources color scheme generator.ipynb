{
 "cells": [
  {
   "cell_type": "code",
   "execution_count": 1,
   "metadata": {
    "collapsed": false
   },
   "outputs": [],
   "source": [
    "using Colors\n",
    "\n",
    "html(s) = display(MIME(\"text/html\"), s)\n",
    "style(el,sty,str) = \"\"\"<$(el) style=\"$(sty)\"> $(str) </$(el)>\"\"\"\n",
    "colorbardiv(fg,bg,text) = style(\"div\",\"color:#$(hex(fg)); font-family:Courier New; background-color:#$(hex(bg))\",\"<b>$text</b>\")\n",
    "\n",
    "h_to_rgb = Dict(0=>\"f00\",1=>\"ff0\",2=>\"0f0\",3=>\"0ff\",4=>\"00f\",5=>\"f0f\");"
   ]
  },
  {
   "cell_type": "markdown",
   "metadata": {},
   "source": [
    "# XResources"
   ]
  },
  {
   "cell_type": "code",
   "execution_count": 2,
   "metadata": {
    "collapsed": false,
    "scrolled": false
   },
   "outputs": [
    {
     "data": {
      "text/html": [
       "<div style=\"color:#C27157; font-family:Courier New; background-color:#E9AC9C\"> <b>#define cf00 #E9AC9C</b> </div><div style=\"color:#E9AC9C; font-family:Courier New; background-color:#C27157\"> <b>#define df00 #C27157</b> </div><div style=\"color:#B09440; font-family:Courier New; background-color:#F6C384\"> <b>#define cff0 #F6C384</b> </div><div style=\"color:#F6C384; font-family:Courier New; background-color:#B09440\"> <b>#define dff0 #B09440</b> </div><div style=\"color:#5E944C; font-family:Courier New; background-color:#BAC172\"> <b>#define c0f0 #BAC172</b> </div><div style=\"color:#BAC172; font-family:Courier New; background-color:#5E944C\"> <b>#define d0f0 #5E944C</b> </div><div style=\"color:#1CA790; font-family:Courier New; background-color:#99DAA2\"> <b>#define c0ff #99DAA2</b> </div><div style=\"color:#99DAA2; font-family:Courier New; background-color:#1CA790\"> <b>#define d0ff #1CA790</b> </div><div style=\"color:#548CA1; font-family:Courier New; background-color:#86C6B9\"> <b>#define c00f #86C6B9</b> </div><div style=\"color:#86C6B9; font-family:Courier New; background-color:#548CA1\"> <b>#define d00f #548CA1</b> </div><div style=\"color:#BB8699; font-family:Courier New; background-color:#CFC8CB\"> <b>#define cf0f #CFC8CB</b> </div><div style=\"color:#CFC8CB; font-family:Courier New; background-color:#BB8699\"> <b>#define df0f #BB8699</b> </div><div style=\"color:#FCFFE9; font-family:Courier New; background-color:#1B2423\"> <b>#define s000 #1B2423</b> </div><div style=\"color:#FCFFE9; font-family:Courier New; background-color:#3E4A47\"> <b>#define s333 #3E4A47</b> </div><div style=\"color:#FCFFE9; font-family:Courier New; background-color:#67746D\"> <b>#define s666 #67746D</b> </div><div style=\"color:#1B2423; font-family:Courier New; background-color:#94A194\"> <b>#define s999 #94A194</b> </div><div style=\"color:#1B2423; font-family:Courier New; background-color:#C6CFBE\"> <b>#define sccc #C6CFBE</b> </div><div style=\"color:#1B2423; font-family:Courier New; background-color:#FCFFE9\"> <b>#define sfff #FCFFE9</b> </div>"
      ]
     },
     "metadata": {},
     "output_type": "display_data"
    }
   ],
   "source": [
    "HCL(x) = whitebalance(x,RGB(1,1,1),RGB(1.0,.992,.804))\n",
    "body = \"\"\n",
    "myColors = [] # Array of color names and values to use within Julia\n",
    "daytime = false # generates dark-on-light color theme\n",
    "\n",
    "for i = 26:60:360\n",
    "    h = h_to_rgb[div(i,60)] # analogous 3-bit color name\n",
    "    pc = (mod(div(i,60),2)==0) # Is it a primary color? used for adjustment\n",
    "    c = HCL(LCHab(80 - (daytime ? 25 : 0) + (pc ? -3:3),25+ (pc ? 0:0),i-30)) #bright\n",
    "    d = HCL(LCHab(60 + (daytime ? 10 : 0) + (pc ? -3:3),35+ (pc ? 0:0),i)) #dark\n",
    "    push!(myColors,\"c$(h)\"); push!(myColors,c);\n",
    "    push!(myColors,\"d$(h)\"); push!(myColors,d);\n",
    "    body = body * colorbardiv(d,c,\"#define c$(h) #$(hex(c))\")\n",
    "    body = body * colorbardiv(c,d,\"#define d$(h) #$(hex(d))\")\n",
    "    #body = body * colorbardiv(d,c,\"c$(h) = \\\"#$(hex(c))\\\"\")\n",
    "    #body = body * colorbardiv(c,d,\"d$(h) = \\\"#$(hex(d))\\\"\")\n",
    "end\n",
    "\n",
    "black = LCHab(13.3, 4.3,188.7) #1B2423\n",
    "white = LCHab(99.2, 11.2, 114.9) #fcffe9\n",
    "\n",
    "#black = LCHab(colorant\"#002B36\") # Solarized\n",
    "#white = LCHab(colorant\"#FDF6E3\") # Solarized\n",
    "\n",
    "greys = daytime ? linspace(white,black,6) : linspace(black,white,6)\n",
    "for (i,c) in enumerate(greys)\n",
    "    push!(myColors,\"g$(repeat(string(hex(3*(i-1))),3))\"); push!(myColors,c);\n",
    "    body = body * colorbardiv( (daytime ? i <= 3 : i > 3) ? black : white ,c,\"#define s$(repeat(string(hex(3*(i-1))),3)) #$(hex(c))\")\n",
    "end\n",
    "myColors = [myColors[i]=>myColors[i+1] for i = 1:2:length(myColors)] # Alternating Array to Dictionary\n",
    "# example:  hex(myColors[\"g000\"]) -> \"1B2423\"\n",
    "html(body)"
   ]
  },
  {
   "cell_type": "markdown",
   "metadata": {},
   "source": [
    "```\n",
    "*background: g000\n",
    "*foreground: gfff\n",
    "*color0:  g333\n",
    "*color7:  g999\n",
    "*color8:  g666\n",
    "*color15: gccc\n",
    "\n",
    "*color1:  df00\n",
    "*color2:  d0f0  \n",
    "*color3:  dff0   \n",
    "*color4:  d00f \n",
    "*color5:  df0f    \n",
    "*color6:  d0ff   \n",
    "*color9:  cf00\n",
    "*color10: c0f0  \n",
    "*color11: cff0   \n",
    "*color12: c00f \n",
    "*color13: cf0f    \n",
    "*color14: c0ff\n",
    "```"
   ]
  },
  {
   "cell_type": "code",
   "execution_count": 3,
   "metadata": {
    "collapsed": false,
    "scrolled": true
   },
   "outputs": [
    {
     "data": {
      "text/html": [
       "<div style=\"font-family:Ubuntu Mono;color:#1B2423;background-color:#3E4A47\"> <b><span style=\"color:#E9AC9C\"> red </span><span style=\"color:#F6C384\"> yel </span><span style=\"color:#BAC172\"> gre </span><span style=\"color:#99DAA2\"> cya </span><span style=\"color:#86C6B9\"> blu </span><span style=\"color:#CFC8CB\"> mag </span></b> </div><div style=\"font-family:Ubuntu Mono;color:#1B2423;background-color:#3E4A47\"> <b><span style=\"color:#C27157\"> red </span><span style=\"color:#B09440\"> yel </span><span style=\"color:#5E944C\"> gre </span><span style=\"color:#1CA790\"> cya </span><span style=\"color:#548CA1\"> blu </span><span style=\"color:#BB8699\"> mag </span></b> </div><div style=\"font-family:Ubuntu Mono;color:#1B2423;background-color:#C6CFBE\"> <b><span style=\"color:#E9AC9C\"> red </span><span style=\"color:#F6C384\"> yel </span><span style=\"color:#BAC172\"> gre </span><span style=\"color:#99DAA2\"> cya </span><span style=\"color:#86C6B9\"> blu </span><span style=\"color:#CFC8CB\"> mag </span></b> </div><div style=\"font-family:Ubuntu Mono;color:#1B2423;background-color:#C6CFBE\"> <b><span style=\"color:#C27157\"> red </span><span style=\"color:#B09440\"> yel </span><span style=\"color:#5E944C\"> gre </span><span style=\"color:#1CA790\"> cya </span><span style=\"color:#548CA1\"> blu </span><span style=\"color:#BB8699\"> mag </span></b> </div>"
      ]
     },
     "metadata": {},
     "output_type": "display_data"
    }
   ],
   "source": [
    "ss(c,x) = style(\"div\",\"\"\"font-family:Ubuntu Mono;color:#$(hex(myColors[\"g000\"]));background-color:#$(hex(myColors[c]))\"\"\",x)\n",
    "#hex(myColors[\"g000\"])\n",
    "ct(c,tx) = style(\"span\",\"color:#$(hex(myColors[c]))\",tx)\n",
    "#println()\n",
    "html(string(\n",
    " ss(\"g333\",string( \"<b>\",ct(\"cf00\",\"red\"),ct(\"cff0\",\"yel\"),ct(\"c0f0\",\"gre\"),ct(\"c0ff\",\"cya\"),ct(\"c00f\",\"blu\"),ct(\"cf0f\",\"mag\"),\"</b>\" ))\n",
    ",ss(\"g333\",string( \"<b>\",ct(\"df00\",\"red\"),ct(\"dff0\",\"yel\"),ct(\"d0f0\",\"gre\"),ct(\"d0ff\",\"cya\"),ct(\"d00f\",\"blu\"),ct(\"df0f\",\"mag\"),\"</b>\" ))\n",
    ",ss(\"gccc\",string( \"<b>\",ct(\"cf00\",\"red\"),ct(\"cff0\",\"yel\"),ct(\"c0f0\",\"gre\"),ct(\"c0ff\",\"cya\"),ct(\"c00f\",\"blu\"),ct(\"cf0f\",\"mag\"),\"</b>\" ))\n",
    ",ss(\"gccc\",string( \"<b>\",ct(\"df00\",\"red\"),ct(\"dff0\",\"yel\"),ct(\"d0f0\",\"gre\"),ct(\"d0ff\",\"cya\"),ct(\"d00f\",\"blu\"),ct(\"df0f\",\"mag\"),\"</b>\" ))\n",
    "))"
   ]
  },
  {
   "cell_type": "markdown",
   "metadata": {},
   "source": [
    "# UI Colors"
   ]
  },
  {
   "cell_type": "code",
   "execution_count": 4,
   "metadata": {
    "collapsed": false,
    "scrolled": false
   },
   "outputs": [
    {
     "data": {
      "text/html": [
       "<div style=\"color:#FCFFE9; font-family:Courier New; background-color:#1B2423\"> <b>#define g000 #1B2423</b> </div><div style=\"color:#FCFFE9; font-family:Courier New; background-color:#26302F\"> <b>#define g111 #26302F</b> </div><div style=\"color:#FCFFE9; font-family:Courier New; background-color:#323D3A\"> <b>#define g222 #323D3A</b> </div><div style=\"color:#FCFFE9; font-family:Courier New; background-color:#3E4A47\"> <b>#define g333 #3E4A47</b> </div><div style=\"color:#FCFFE9; font-family:Courier New; background-color:#4B5853\"> <b>#define g444 #4B5853</b> </div><div style=\"color:#FCFFE9; font-family:Courier New; background-color:#596660\"> <b>#define g555 #596660</b> </div><div style=\"color:#FCFFE9; font-family:Courier New; background-color:#67746D\"> <b>#define g666 #67746D</b> </div><div style=\"color:#FCFFE9; font-family:Courier New; background-color:#75837A\"> <b>#define g777 #75837A</b> </div><div style=\"color:#FCFFE9; font-family:Courier New; background-color:#859287\"> <b>#define g888 #859287</b> </div><div style=\"color:#1B2423; font-family:Courier New; background-color:#94A194\"> <b>#define g999 #94A194</b> </div><div style=\"color:#1B2423; font-family:Courier New; background-color:#A4B0A2\"> <b>#define gaaa #A4B0A2</b> </div><div style=\"color:#1B2423; font-family:Courier New; background-color:#B5BFB0\"> <b>#define gbbb #B5BFB0</b> </div><div style=\"color:#1B2423; font-family:Courier New; background-color:#C6CFBE\"> <b>#define gccc #C6CFBE</b> </div><div style=\"color:#1B2423; font-family:Courier New; background-color:#D7DFCC\"> <b>#define gddd #D7DFCC</b> </div><div style=\"color:#1B2423; font-family:Courier New; background-color:#E9EFDA\"> <b>#define geee #E9EFDA</b> </div><div style=\"color:#1B2423; font-family:Courier New; background-color:#FCFFE9\"> <b>#define gfff #FCFFE9</b> </div><div style=\"color:#FCFFE9; font-family:Courier New; background-color:#002B28\"> <b>#define h000 #002B28</b> </div><div style=\"color:#FCFFE9; font-family:Courier New; background-color:#57946B\"> <b>#define h777 #57946B</b> </div><div style=\"color:#1B2423; font-family:Courier New; background-color:#F7FFBC\"> <b>#define heee #F7FFBC</b> </div>"
      ]
     },
     "metadata": {},
     "output_type": "display_data"
    }
   ],
   "source": [
    "body = \"\"\n",
    "greys = linspace(black,white,16)\n",
    "for (i,c) in enumerate(greys)\n",
    "    body = body * colorbardiv( i > 9 ? black : white ,c,\"#define g$(repeat(string(hex((i-1))),3)) #$(hex(c))\")\n",
    "end\n",
    "selection = linspace(LCHab(black.l,black.c+25,black.h),LCHab(white.l,white.c+25,white.h),3)\n",
    "for (i,c) in enumerate(selection)\n",
    "    body = body * colorbardiv( i > 2 ? black : white ,c,\"#define h$(repeat(string(hex(7*(i-1))),3)) #$(hex(c))\")\n",
    "end\n",
    "html(body)"
   ]
  },
  {
   "cell_type": "markdown",
   "metadata": {},
   "source": [
    "## Oomox (GTK Theme)\n",
    "for use with https://github.com/actionless/oomox"
   ]
  },
  {
   "cell_type": "code",
   "execution_count": 5,
   "metadata": {
    "collapsed": false
   },
   "outputs": [
    {
     "data": {
      "text/html": [
       "<div style=\"color:#1B2423; font-family:Courier New; background-color:#D7DFCC\"> <b>name=\"pleochroic-diopside\"</b> </div><div style=\"color:#1B2423; font-family:Courier New; background-color:#D7DFCC\"> <b>BG=D7DFCC</b> </div><div style=\"color:#D7DFCC; font-family:Courier New; background-color:#1B2423\"> <b>FG=1B2423</b> </div><div style=\"color:#C6CFBE; font-family:Courier New; background-color:#26302F\"> <b>MENU_BG=26302F</b> </div><div style=\"color:#26302F; font-family:Courier New; background-color:#C6CFBE\"> <b>MENU_FG=C6CFBE</b> </div><div style=\"color:#F7FFBC; font-family:Courier New; background-color:#57946B\"> <b>SEL_BG=57946B</b> </div><div style=\"color:#57946B; font-family:Courier New; background-color:#F7FFBC\"> <b>SEL_FG=F7FFBC</b> </div><div style=\"color:#323D3A; font-family:Courier New; background-color:#FCFFE9\"> <b>TXT_BG=FCFFE9</b> </div><div style=\"color:#FCFFE9; font-family:Courier New; background-color:#323D3A\"> <b>TXT_FG=323D3A</b> </div><div style=\"color:#4B5853; font-family:Courier New; background-color:#E9EFDA\"> <b>BTN_BG=E9EFDA</b> </div><div style=\"color:#E9EFDA; font-family:Courier New; background-color:#4B5853\"> <b>BTN_FG=4B5853</b> </div>"
      ]
     },
     "metadata": {},
     "output_type": "display_data"
    }
   ],
   "source": [
    "# oomox color scheme\n",
    "oomox_name = \"pleochroic-diopside\"\n",
    "greys = linspace(black,white,16)\n",
    "body = prod([\n",
    "    colorbardiv(greys[1],greys[14],\"name=\\\"$(oomox_name)\\\"\"),\n",
    "    colorbardiv(greys[1],greys[14],\"BG=$(greys[14] |> hex)\"),\n",
    "    colorbardiv(greys[14],greys[1],\"FG=$(greys[1] |> hex)\"),\n",
    "    colorbardiv(greys[13],greys[2],\"MENU_BG=$(greys[2] |> hex)\"),\n",
    "    colorbardiv(greys[2],greys[13],\"MENU_FG=$(greys[13] |> hex)\"),\n",
    "    colorbardiv(selection[3],selection[2],\"SEL_BG=$(selection[2] |> hex)\"),\n",
    "    colorbardiv(selection[2],selection[3],\"SEL_FG=$(selection[3] |> hex)\"),\n",
    "    colorbardiv(greys[3],greys[16],\"TXT_BG=$(greys[16] |> hex)\"),\n",
    "    colorbardiv(greys[16],greys[3],\"TXT_FG=$(greys[3] |> hex)\"),\n",
    "    colorbardiv(greys[5],greys[15],\"BTN_BG=$(greys[15] |> hex)\"),\n",
    "    colorbardiv(greys[15],greys[5],\"BTN_FG=$(greys[5] |> hex)\"),\n",
    "    ])\n",
    "\n",
    "html(body)"
   ]
  },
  {
   "cell_type": "code",
   "execution_count": 6,
   "metadata": {
    "collapsed": false,
    "scrolled": true
   },
   "outputs": [
    {
     "data": {
      "text/html": [
       "<div style=\"color:#C6CFBE; font-family:Courier New; background-color:#323D3A\"> <b>name=\"pleochroic-diopside-dark\"</b> </div><div style=\"color:#C6CFBE; font-family:Courier New; background-color:#323D3A\"> <b>BG=323D3A</b> </div><div style=\"color:#323D3A; font-family:Courier New; background-color:#C6CFBE\"> <b>FG=C6CFBE</b> </div><div style=\"color:#B5BFB0; font-family:Courier New; background-color:#1B2423\"> <b>MENU_BG=1B2423</b> </div><div style=\"color:#1B2423; font-family:Courier New; background-color:#B5BFB0\"> <b>MENU_FG=B5BFB0</b> </div><div style=\"color:#002B28; font-family:Courier New; background-color:#57946B\"> <b>SEL_BG=57946B</b> </div><div style=\"color:#57946B; font-family:Courier New; background-color:#002B28\"> <b>SEL_FG=002B28</b> </div><div style=\"color:#859287; font-family:Courier New; background-color:#26302F\"> <b>TXT_BG=26302F</b> </div><div style=\"color:#26302F; font-family:Courier New; background-color:#859287\"> <b>TXT_FG=859287</b> </div><div style=\"color:#D7DFCC; font-family:Courier New; background-color:#4B5853\"> <b>BTN_BG=4B5853</b> </div><div style=\"color:#4B5853; font-family:Courier New; background-color:#D7DFCC\"> <b>BTN_FG=D7DFCC</b> </div>"
      ]
     },
     "metadata": {},
     "output_type": "display_data"
    }
   ],
   "source": [
    "# oomox color scheme\n",
    "greys = linspace(black,white,16)\n",
    "body = prod([\n",
    "    colorbardiv(greys[13],greys[3],\"name=\\\"$(oomox_name)-dark\\\"\"),\n",
    "    colorbardiv(greys[13],greys[3],\"BG=$(greys[3] |> hex)\"),\n",
    "    colorbardiv(greys[3],greys[13],\"FG=$(greys[13] |> hex)\"),\n",
    "    colorbardiv(greys[12],greys[1],\"MENU_BG=$(greys[1] |> hex)\"),\n",
    "    colorbardiv(greys[1],greys[12],\"MENU_FG=$(greys[12] |> hex)\"),\n",
    "    colorbardiv(selection[1],selection[2],\"SEL_BG=$(selection[2] |> hex)\"),\n",
    "    colorbardiv(selection[2],selection[1],\"SEL_FG=$(selection[1] |> hex)\"),\n",
    "    colorbardiv(greys[9],greys[2],\"TXT_BG=$(greys[2] |> hex)\"),\n",
    "    colorbardiv(greys[2],greys[9],\"TXT_FG=$(greys[9] |> hex)\"),\n",
    "    colorbardiv(greys[14],greys[5],\"BTN_BG=$(greys[5] |> hex)\"),\n",
    "    colorbardiv(greys[5],greys[14],\"BTN_FG=$(greys[14] |> hex)\"),\n",
    "    ])\n",
    "\n",
    "html(body)"
   ]
  }
 ],
 "metadata": {
  "kernelspec": {
   "display_name": "Julia 0.4.0-rc4",
   "language": "julia",
   "name": "julia-0.4"
  },
  "language_info": {
   "file_extension": ".jl",
   "mimetype": "application/julia",
   "name": "julia",
   "version": "0.4.0"
  }
 },
 "nbformat": 4,
 "nbformat_minor": 0
}
